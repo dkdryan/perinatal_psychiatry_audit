{
 "cells": [
  {
   "cell_type": "markdown",
   "metadata": {},
   "source": [
    "## Perinatal Psychiatry Audit 2019:\n",
    "\n",
    "# Are referrals to South West London Perinatal Psychiatry representative of the local population in terms of socioeconomic and ethnic demographics?\n",
    "\n",
    "# Heatmap analysis to explore the origins of referrals to perinatal psychiatry "
   ]
  },
  {
   "cell_type": "markdown",
   "metadata": {},
   "source": [
    "Notebook by: David K Ryan, Academic Foundation Doctor, St George's Hospital\n",
    "    \n",
    "*No patient data is included in this notebook and the data is not publicly available*\n",
    "\n",
    "Abstract is detailed below. \n",
    "\n",
    "This notebook describes the code that was used for data analysis and production of heatmaps. "
   ]
  },
  {
   "cell_type": "markdown",
   "metadata": {},
   "source": [
    "______"
   ]
  },
  {
   "cell_type": "markdown",
   "metadata": {},
   "source": [
    "## Abstract \n",
    "\n",
    "### Equality of Access to Perinatal Mental Health Services: Are referrals to Perinatal Psychiatry at St George’s Hospital representative of the Ethnic and Socioeconomic demographics of South-West London?\n",
    "\n",
    "\n",
    "#### David Ryan, Daniel Murphy, Leena Patel, Ben Nereli\n",
    "\n",
    "#### Aim and Hypothesis:\n",
    "The aim of this quality improvement study is to understand whether referrals to the St\n",
    "George’s Perinatal Mental Health Service (PMHS) are representative of the local population\n",
    "and explore how ethnicity and socioeconomic status may shape women’s access to PMHS.\n",
    "\n",
    "#### Background:\n",
    "Mental ill health is a major cause of mortality and morbidity associated with child-birth and\n",
    "as a result, there is now a growing interest in improving access to PMHS across the UK.\n",
    "However, it is unclear whether this investment in PMHS is benefiting segments of the\n",
    "population that may not traditionally engage with health services, such as women from lower\n",
    "socioeconomic or minority ethnic groups. As a result, there is concern that this investment\n",
    "has the potential to exacerbate pre-existing health inequalities – representing a form of\n",
    "intervention generated inequality.\n",
    "\n",
    "#### Methods:\n",
    "Referrals to the PMHS at St George’s Hospital, South-West London during the month of\n",
    "October 2019 (n = 104) were included. Details including weeks of gestation/post-natal,\n",
    "referrer and ethnicity data were collected routinely on referral forms and socio-economic data\n",
    "was accessed through the patient’s postcode using the UK Government English Indices of\n",
    "Deprivation Resource. We compared the demographic make-up of our referrals with the\n",
    "wider South-West London census data using the chi-square statistic. Differences in the\n",
    "socioeconomic status of women according to what professional referred the woman (primary\n",
    "care, maternity service, health visitor, other) were compared using a one-way ANOVA with\n",
    "Tukey’s post-hoc test. Heat maps weighted according to deprivation decile were generated to\n",
    "visualise geographical patterns of referrals.\n",
    "\n",
    "#### Results:\n",
    "There was no statistically significant difference between referrals and ethnicity census data\n",
    "(p=0.8463), although there was a trend that a disproportionately large percentage of White\n",
    "British women were referred to our service (58.33% of referrals vs. background population\n",
    "45.60%). Similarly, there was no statistically significant difference between deprivation\n",
    "quintile of our referrals and the local population (p=0.4734). There was a trend that women\n",
    "referred by health visitors were from lower socioeconomic groups compared to referrals from\n",
    "Primary Care Providers (p=0.089). Heat maps visually suggest that our referrals follow local\n",
    "population densities and geographical proximity to St George’s Hospital.\n",
    "\n",
    "#### Conclusions:\n",
    "These findings suggest that there is generally good equality of access to PMHS but that there\n",
    "also exists a socio-economic bias to how women are referred. It is important that referrers and\n",
    "service providers appreciate these biases in access to secondary care and are cognisant of\n",
    "these in clinical decision-making."
   ]
  },
  {
   "cell_type": "markdown",
   "metadata": {},
   "source": [
    "________"
   ]
  },
  {
   "cell_type": "code",
   "execution_count": null,
   "metadata": {},
   "outputs": [],
   "source": [
    "#import libraries \n",
    "import pandas as pd \n",
    "import numpy as np \n",
    "import matplotlib.pyplot as plt\n",
    "%matplotlib inline\n",
    "import seaborn as sns"
   ]
  },
  {
   "cell_type": "code",
   "execution_count": null,
   "metadata": {},
   "outputs": [],
   "source": [
    "#import\n",
    "#data = pd.read_csv()"
   ]
  },
  {
   "cell_type": "markdown",
   "metadata": {},
   "source": [
    "## Processing of LSOA data \n",
    "\n",
    "LSOA: Lower Layer Super Output Areas "
   ]
  },
  {
   "cell_type": "code",
   "execution_count": null,
   "metadata": {},
   "outputs": [],
   "source": [
    "#Simplify the LSOA column\n",
    "data['LSOA Name'] = data['LSOA Name'].str.replace(r'(^.*Wandsworth.*$)', 'Wandsworth')\n",
    "data['LSOA Name'] = data['LSOA Name'].str.replace(r'(^.*Sutton.*$)', 'Sutton')\n",
    "data['LSOA Name'] = data['LSOA Name'].str.replace(r'(^.*Merton.*$)', 'Merton')\n",
    "data['LSOA Name'] = data['LSOA Name'].str.replace(r'(^.*Richmond.*$)', 'Richmond')\n",
    "data['LSOA Name'] = data['LSOA Name'].str.replace(r'(^.*Kingston.*$)', 'Kingston')"
   ]
  },
  {
   "cell_type": "markdown",
   "metadata": {},
   "source": [
    "## How many referrals were received from each of the different boroughs in SWL? \n"
   ]
  },
  {
   "cell_type": "code",
   "execution_count": null,
   "metadata": {},
   "outputs": [],
   "source": [
    "#Total number in the dataset \n",
    "data.shape"
   ]
  },
  {
   "cell_type": "code",
   "execution_count": null,
   "metadata": {},
   "outputs": [],
   "source": [
    "data['LSOA Name'].value_counts(dropna=True)"
   ]
  },
  {
   "cell_type": "code",
   "execution_count": null,
   "metadata": {},
   "outputs": [],
   "source": [
    "data['LSOA Name'].value_counts(dropna=True).plot(kind='bar');\n",
    "plt.title('Referrals to Perinatal Psychiatry in October 2019')\n",
    "#plt.savefig('borough_referrals.png')"
   ]
  },
  {
   "cell_type": "markdown",
   "metadata": {},
   "source": [
    "## Who was referred to our clinic? \n",
    "\n",
    "#### Status of Pregnancy: \n",
    "\n"
   ]
  },
  {
   "cell_type": "code",
   "execution_count": null,
   "metadata": {},
   "outputs": [],
   "source": [
    "status_df = pd.DataFrame(data.Status.value_counts())\n",
    "status_df.columns = ['Number of Women']\n",
    "status_df.rename({0.0:'Pregnant', 1.0: 'Post-natal', 2.0: 'Pre-conception', -999: 'Missing'}, inplace=True)\n",
    "status_df['%']= status_df.apply(lambda row: round((row['Number of Women']/len(data))*100), axis = 1) \n",
    "status_df."
   ]
  },
  {
   "cell_type": "code",
   "execution_count": null,
   "metadata": {},
   "outputs": [],
   "source": [
    "from pandas.plotting import table "
   ]
  },
  {
   "cell_type": "code",
   "execution_count": null,
   "metadata": {},
   "outputs": [],
   "source": [
    "status_df[\"Number of Women\"].plot(kind=\"bar\", title=\"Types of Referrals to Perinatal Psychiatry\");\n",
    "plt.savefig('referral_type.png')"
   ]
  },
  {
   "cell_type": "markdown",
   "metadata": {},
   "source": [
    "#### Stage of Pregnancy:"
   ]
  },
  {
   "cell_type": "code",
   "execution_count": null,
   "metadata": {},
   "outputs": [],
   "source": [
    "stage_df = pd.DataFrame(data[['Status', 'Weeks']])\n",
    "stage_df.rename({ -999: np.NaN}, inplace=True)"
   ]
  },
  {
   "cell_type": "code",
   "execution_count": null,
   "metadata": {},
   "outputs": [],
   "source": [
    "data.groupby('Status')[\"Weeks\"].agg(['count', 'mean', 'min', 'max'])\n",
    "stage_df = pd.DataFrame(data.groupby('Status')[\"Weeks\"].agg(['count', 'mean', 'min', 'max']))"
   ]
  },
  {
   "cell_type": "code",
   "execution_count": null,
   "metadata": {},
   "outputs": [],
   "source": [
    "stage_df.columns = ['Number of Referrals', 'Mean Weeks of Gestation or Mean Weeks Post-natal', 'Min Weeks', 'Max Weeks']\n",
    "stage_df.rename({0.0:'Pregnant', 1.0: 'Post-natal', 2.0: 'Pre-conception', -999: 'Missing'}, inplace=True)"
   ]
  },
  {
   "cell_type": "code",
   "execution_count": null,
   "metadata": {},
   "outputs": [],
   "source": [
    "#bar chart to show mean weeks of gestation/post-natal at referral \n",
    "stage_df[\"Mean Weeks of Gestation or Mean Weeks Post-natal\"].plot(kind=\"bar\", title=\"Referrals to Perinatal Psychiatry\");"
   ]
  },
  {
   "cell_type": "code",
   "execution_count": null,
   "metadata": {},
   "outputs": [],
   "source": [
    "#boolean masking to create new dataframes based on conditions\n",
    "m_pregnant = data['Status'] == 0.0\n",
    "m_pregnant = data.loc[m_pregnant, :].copy()\n",
    "m_postnatal = data['Status'] == 1.0\n",
    "m_postnatal = data.loc[m_postnatal, :].copy()\n",
    "m_pregnant.dropna(inplace=True)\n",
    "m_postnatal.dropna(inplace=True)"
   ]
  },
  {
   "cell_type": "code",
   "execution_count": null,
   "metadata": {},
   "outputs": [],
   "source": [
    "m_pregnant['Weeks'].isnull().sum()\n",
    "m_pregnant['Weeks'].plot(kind='hist')\n",
    "plt.xlabel('weeks of gestation')\n",
    "plt.title('What gestation were women referred to perinatal services?');\n",
    "plt.savefig('gestation_pregnant.png')"
   ]
  },
  {
   "cell_type": "code",
   "execution_count": null,
   "metadata": {},
   "outputs": [],
   "source": [
    "#Distribution plot for weeks of gestation referred to service \n",
    "sns.distplot(m_pregnant['Weeks']).set_title('Gestation of Pregnant Women Referred to Perinatal Team');"
   ]
  },
  {
   "cell_type": "code",
   "execution_count": null,
   "metadata": {},
   "outputs": [],
   "source": [
    "#histogram \n",
    "m_postnatal['Weeks'].hist(bins=26)"
   ]
  },
  {
   "cell_type": "markdown",
   "metadata": {},
   "source": [
    "## Who are the women who are being referred early? \n"
   ]
  },
  {
   "cell_type": "code",
   "execution_count": null,
   "metadata": {},
   "outputs": [],
   "source": [
    "#boolean masking to create a dataframe for women referred prior to 15 weeks of gestation\n",
    "m_pregnant_early = m_pregnant.loc[m_pregnant['Weeks']<15, :].copy()\n",
    "m_pregnant_early['Index of Multiple Deprivation Quintile'].value_counts().sort_index()"
   ]
  },
  {
   "cell_type": "code",
   "execution_count": null,
   "metadata": {},
   "outputs": [],
   "source": [
    "m_pregnant_late = m_pregnant.loc[m_pregnant['Weeks']>15, :].copy()\n",
    "m_pregnant_late['Index of Multiple Deprivation Quintile'].value_counts().sort_index()"
   ]
  },
  {
   "cell_type": "code",
   "execution_count": null,
   "metadata": {},
   "outputs": [],
   "source": [
    "sns.distplot(m_postnatal['Weeks']).set_title('Gestation of Post-natal Women Referred to Perinatal Team');"
   ]
  },
  {
   "cell_type": "code",
   "execution_count": null,
   "metadata": {},
   "outputs": [],
   "source": [
    "m_pregnant['Weeks'].hist(bins=10)\n",
    "plt.suptitle(\"Weeks of gestation for referrals of Pregnant Women\");"
   ]
  },
  {
   "cell_type": "code",
   "execution_count": null,
   "metadata": {},
   "outputs": [],
   "source": [
    "m_postnatal['Weeks'].hist(grid=False)\n",
    "plt.xlabel('Weeks post-natal')\n",
    "plt.ylabel('Frequency')\n",
    "plt.suptitle(\"Weeks of gestation for referrals of Post-natal Women\");\n",
    "plt.savefig('gestation_postnatal.png')"
   ]
  },
  {
   "cell_type": "markdown",
   "metadata": {},
   "source": [
    "## Who referred women to the perinatal team? \n",
    "\n",
    "#### Pregnant women: \n",
    "\n"
   ]
  },
  {
   "cell_type": "code",
   "execution_count": null,
   "metadata": {},
   "outputs": [],
   "source": [
    "refer_preg = pd.DataFrame(m_pregnant['Referrer'].value_counts())\n",
    "refer_preg.columns = ['Count']\n",
    "refer_preg.rename({0.0:'Primary Care', 1.0: 'Maternity Service', 2.0: 'Health Visitor', 3.0: 'Mental Health Secondary Care'}, inplace=True)\n",
    "refer_preg.plot(kind='bar');"
   ]
  },
  {
   "cell_type": "markdown",
   "metadata": {},
   "source": [
    "#### Post-natal women:"
   ]
  },
  {
   "cell_type": "code",
   "execution_count": null,
   "metadata": {},
   "outputs": [],
   "source": [
    "refer_postnatal = pd.DataFrame(m_postnatal['Referrer'].value_counts())\n",
    "refer_postnatal.columns = ['Count']\n",
    "refer_postnatal.rename({0.0:'Primary Care', 1.0: 'Maternity Service', 2.0: 'Health Visitor', 3.0: 'Mental Health Secondary Care'}, inplace=True)\n",
    "refer_postnatal.plot(kind='bar');\n"
   ]
  },
  {
   "cell_type": "markdown",
   "metadata": {},
   "source": [
    "#### Ethnicity: "
   ]
  },
  {
   "cell_type": "code",
   "execution_count": null,
   "metadata": {},
   "outputs": [],
   "source": [
    "ethnicity = pd.DataFrame(data['Ethnicity'].value_counts(dropna=False))\n",
    "ethnicity.rename({'NaN': \"Not Known\", 0.0:'White British', np.nan : 'Not Known', 1.0: 'White Other', 2.0: 'South Asian', 3.0: 'Asian Other', 4.0: 'African/Black', 5.0: 'Mixed/Other'}, inplace=True)\n",
    "ethnicity['%']= ethnicity.apply(lambda row: round((row['Ethnicity']/len(data))*100), axis = 1)"
   ]
  },
  {
   "cell_type": "code",
   "execution_count": null,
   "metadata": {},
   "outputs": [],
   "source": [
    "#Drop participants with missing ethnicity \n",
    "ethnicity_no_null = pd.DataFrame(data['Ethnicity'].value_counts(dropna=True))\n",
    "ethnicity_no_null.rename({'NaN': \"Not Known\", 0.0:'White British', 1.0: 'White Other', 2.0: 'South Asian', 3.0: 'Asian Other', 4.0: 'African/Black', 5.0: 'Mixed/Other'}, inplace=True)\n",
    "ethnicity_no_null"
   ]
  },
  {
   "cell_type": "code",
   "execution_count": null,
   "metadata": {},
   "outputs": [],
   "source": [
    "ethnicity['Ethnicity'].plot(kind='barh');\n",
    "plt.title('Ethnicity')\n",
    "plt.xlabel('Frequency');\n",
    "plt.savefig('ethnicity.png')"
   ]
  },
  {
   "cell_type": "markdown",
   "metadata": {},
   "source": [
    "#### Socioeconomic Status: 2019 English IMD"
   ]
  },
  {
   "cell_type": "code",
   "execution_count": null,
   "metadata": {},
   "outputs": [],
   "source": [
    "IMD_OCT = pd.DataFrame(data['Index of Multiple Deprivation Decile'].value_counts(dropna=True).sort_index())\n",
    "IMD_OCT.plot(kind='bar');"
   ]
  },
  {
   "cell_type": "code",
   "execution_count": null,
   "metadata": {},
   "outputs": [],
   "source": [
    "x = data['Index of Multiple Deprivation Rank']\n",
    "x.dropna(inplace=True)\n",
    "sns.distplot(x);"
   ]
  },
  {
   "cell_type": "code",
   "execution_count": null,
   "metadata": {},
   "outputs": [],
   "source": [
    "plt.hist(x);"
   ]
  },
  {
   "cell_type": "code",
   "execution_count": null,
   "metadata": {},
   "outputs": [],
   "source": [
    "data['Index of Multiple Deprivation Quintile'].value_counts().sort_index()"
   ]
  },
  {
   "cell_type": "code",
   "execution_count": null,
   "metadata": {},
   "outputs": [],
   "source": [
    "data['Index of Multiple Deprivation Quintile'].value_counts().sort_index().plot(kind='bar')\n",
    "plt.title('Quintile of Deprivation')\n",
    "plt.ylabel('Frequency')\n",
    "plt.xlabel('Deprivation from most deprived to least deprived');\n",
    "plt.savefig('Deprivation.png')"
   ]
  },
  {
   "cell_type": "code",
   "execution_count": null,
   "metadata": {},
   "outputs": [],
   "source": [
    "quintile = pd.DataFrame(data['Quintile'].value_counts().sort_index())"
   ]
  },
  {
   "cell_type": "code",
   "execution_count": null,
   "metadata": {},
   "outputs": [],
   "source": [
    "quintile.plot(kind='bar')"
   ]
  },
  {
   "cell_type": "markdown",
   "metadata": {},
   "source": [
    "## Education "
   ]
  },
  {
   "cell_type": "code",
   "execution_count": null,
   "metadata": {},
   "outputs": [],
   "source": [
    "data['Education and Skills Decile'].value_counts(dropna=False)"
   ]
  },
  {
   "cell_type": "markdown",
   "metadata": {},
   "source": [
    "## Avg Socioeconomic Class of GP vs Health Visitor referral "
   ]
  },
  {
   "cell_type": "code",
   "execution_count": null,
   "metadata": {},
   "outputs": [],
   "source": [
    "data['Referrer'].replace({0.0:'Primary Care', 1.0: 'Maternity Service', 2.0: 'Health Visitor', 3.0: 'Mental Health Secondary Care'}, inplace=True)"
   ]
  },
  {
   "cell_type": "code",
   "execution_count": null,
   "metadata": {},
   "outputs": [],
   "source": [
    "#plot barchart for socioeconomic status \n",
    "data.groupby(by='Referrer')['Index of Multiple Deprivation Quintile'].mean().plot(kind='bar')\n",
    "plt.title(\"Average Deprivation Decile According to Health Professional making referral\")\n",
    "\n",
    "plt.figure(figsize=(20,20))\n",
    "\n",
    "\n",
    "plt.savefig('referrer.png')"
   ]
  },
  {
   "cell_type": "code",
   "execution_count": null,
   "metadata": {},
   "outputs": [],
   "source": [
    "#subgroups for different referral type \n",
    "data_0_m = data['Index of Multiple Deprivation Quintile'] == 0 \n",
    "data_0 = list(data[data_0_m]['Index of Multiple Deprivation Rank'])\n",
    "\n",
    "data_1_m = data['Referrer'] == 1 \n",
    "data_1 = list(data[data_1_m]['Index of Multiple Deprivation Quintile'])\n",
    "\n",
    "data_2_m = data['Referrer'] == 2 \n",
    "data_2 = list(data[data_2_m]['Index of Multiple Deprivation Quintile'])\n",
    "\n",
    "data_3_m = data['Referrer'] == 3 \n",
    "data_3 = list(data[data_3_m]['Index of Multiple Deprivation Quintile'])"
   ]
  },
  {
   "cell_type": "code",
   "execution_count": null,
   "metadata": {},
   "outputs": [],
   "source": [
    "import scipy.stats as stats\n",
    "from statsmodels.stats.multicomp import pairwise_tukeyhsd\n",
    "from statsmodels.stats.multicomp import MultiComparison"
   ]
  },
  {
   "cell_type": "code",
   "execution_count": null,
   "metadata": {},
   "outputs": [],
   "source": [
    "#one-way anova to compare mean socioeconomic status between different referrals \n",
    "stats.f_oneway(data_0, data_1, data_2, data_3)"
   ]
  },
  {
   "cell_type": "code",
   "execution_count": null,
   "metadata": {},
   "outputs": [],
   "source": [
    "mc = MultiComparison(data['Index of Multiple Deprivation Rank'], data['Referrer'])\n",
    "result = mc.tukeyhsd()\n",
    " \n",
    "print(result)\n",
    "print(mc.groupsunique)"
   ]
  },
  {
   "cell_type": "markdown",
   "metadata": {},
   "source": [
    "## Heatmap Geolocation: Perinatal Caseload using Gmaps Library"
   ]
  },
  {
   "cell_type": "markdown",
   "metadata": {},
   "source": [
    "Note: latitute and longitude for each postcode was obtained from public online database \n",
    "\n",
    "Note: heatmaps not published but used internally to inform planning for perinatal services locally"
   ]
  },
  {
   "cell_type": "code",
   "execution_count": null,
   "metadata": {},
   "outputs": [],
   "source": [
    "caseload_df = pd.read_csv()"
   ]
  },
  {
   "cell_type": "code",
   "execution_count": null,
   "metadata": {},
   "outputs": [],
   "source": [
    "heatmap_caseload_df = caseload_df[['Latitude ', 'Longitude','Index of Multiple Deprivation Decile']]"
   ]
  },
  {
   "cell_type": "code",
   "execution_count": null,
   "metadata": {},
   "outputs": [],
   "source": [
    "heatmap_caseload_df"
   ]
  },
  {
   "cell_type": "code",
   "execution_count": null,
   "metadata": {},
   "outputs": [],
   "source": [
    "#create a geotuple using zip function\n",
    "heatmap_caseload_df['geo_tuple'] = list(zip(heatmap_caseload_df['Latitude '], heatmap_caseload_df['Longitude']))\n",
    "heatmap_caseload_df.dropna(inplace=True)"
   ]
  },
  {
   "cell_type": "code",
   "execution_count": null,
   "metadata": {},
   "outputs": [],
   "source": [
    "#create heat maps using gmaps library \n",
    "import gmaps\n",
    "gmaps.configure(api_key=)\n",
    "\n",
    "gmaps.figure()\n",
    "\n",
    "#centre map at St George's Hospital \n",
    "SGH_coordinates = (51.425168, -0.177016)\n",
    "\n",
    "#create figure \n",
    "fig = gmaps.figure(center=SGH_coordinates, zoom_level=11)\n",
    "\n",
    "heatmap_layer = gmaps.heatmap_layer(\n",
    "    heatmap_caseload_df['geo_tuple'], \n",
    "    max_intensity = 10,\n",
    "    dissipating = True, \n",
    "    point_radius = 50, \n",
    "    opacity=0.5 )\n",
    "\n",
    "fig.add_layer(heatmap_layer)\n",
    "fig"
   ]
  },
  {
   "cell_type": "code",
   "execution_count": null,
   "metadata": {},
   "outputs": [],
   "source": []
  }
 ],
 "metadata": {
  "kernelspec": {
   "display_name": "Python 3",
   "language": "python",
   "name": "python3"
  }
 },
 "nbformat": 4,
 "nbformat_minor": 2
}
